{
 "cells": [
  {
   "cell_type": "markdown",
   "metadata": {},
   "source": [
    "# 1. Data Processing & Feature Engineering"
   ]
  },
  {
   "cell_type": "code",
   "execution_count": 1,
   "metadata": {},
   "outputs": [
    {
     "name": "stdout",
     "output_type": "stream",
     "text": [
      "Path to dataset files: C:\\Users\\Yoni\\.cache\\kagglehub\\datasets\\behrad3d\\nasa-cmaps\\versions\\1\n"
     ]
    }
   ],
   "source": [
    "import kagglehub\n",
    "\n",
    "# Download latest version\n",
    "path = kagglehub.dataset_download(\"behrad3d/nasa-cmaps\")\n",
    "\n",
    "print(\"Path to dataset files:\", path)"
   ]
  },
  {
   "cell_type": "code",
   "execution_count": 2,
   "metadata": {},
   "outputs": [],
   "source": [
    "import torch\n",
    "from torch.utils.data import Dataset, DataLoader\n",
    "from collections import defaultdict\n",
    "\n",
    "\n",
    "# train1\n",
    "data = []\n",
    "data1_path = path + \"\\\\CMaps\\\\train_FD001.txt\"\n",
    "\n",
    "with open(data1_path, 'r') as f:\n",
    "    for line in f:\n",
    "        # print(line.strip().split('\\t'))\n",
    "        row = list(map(float, line.strip().split(' ')))\n",
    "        data.append(row)\n",
    "\n",
    "data1 = torch.tensor(data)\n",
    "\n",
    "max_time_per_unit = defaultdict(int)\n",
    "for row in data:\n",
    "    unit_number, time = row[0], row[1]\n",
    "    max_time_per_unit[unit_number] = max(max_time_per_unit[unit_number], time)\n",
    "\n",
    "labels1 = []\n",
    "for row in data:\n",
    "    unit_number, time = row[0], row[1]\n",
    "    max_time = max_time_per_unit[unit_number]\n",
    "    labels1.append(max_time - time)"
   ]
  },
  {
   "cell_type": "code",
   "execution_count": 3,
   "metadata": {},
   "outputs": [],
   "source": [
    "class EngineDataset(Dataset):\n",
    "    def __init__(self, data, labels):\n",
    "        self.data = data\n",
    "        self.labels = labels\n",
    "\n",
    "    def __len__(self):\n",
    "        return len(self.data)\n",
    "    \n",
    "    def __getitem__(self, idx):\n",
    "        return self.data[idx], self.labels[idx]"
   ]
  },
  {
   "cell_type": "code",
   "execution_count": 4,
   "metadata": {},
   "outputs": [],
   "source": [
    "train1_dataset = EngineDataset(data1, labels1)\n",
    "\n",
    "dataloader = torch.utils.data.DataLoader(train1_dataset, batch_size=100, shuffle=False)\n"
   ]
  },
  {
   "cell_type": "markdown",
   "metadata": {},
   "source": [
    "# 2. RUL Prediction Model "
   ]
  },
  {
   "cell_type": "code",
   "execution_count": 5,
   "metadata": {},
   "outputs": [],
   "source": [
    "import torch.nn as nn\n",
    "import torch.nn.functional as F\n",
    "\n",
    "class RULModel(nn.Module):\n",
    "    def __init__(self):\n",
    "        super(RULModel, self).__init__()\n",
    "        self.fc1 = nn.Linear(26, 1)\n",
    "\n",
    "    def forward(self, x):\n",
    "        x = self.fc1(x)\n",
    "        return x"
   ]
  },
  {
   "cell_type": "code",
   "execution_count": 6,
   "metadata": {},
   "outputs": [
    {
     "data": {
      "text/plain": [
       "207"
      ]
     },
     "execution_count": 6,
     "metadata": {},
     "output_type": "execute_result"
    }
   ],
   "source": [
    "len(dataloader)\n"
   ]
  },
  {
   "cell_type": "code",
   "execution_count": 7,
   "metadata": {},
   "outputs": [
    {
     "data": {
      "application/vnd.jupyter.widget-view+json": {
       "model_id": "927066d5999e48439700d48686da715d",
       "version_major": 2,
       "version_minor": 0
      },
      "text/plain": [
       "Training Progress:   0%|          | 0/10 [00:00<?, ?epoch/s]"
      ]
     },
     "metadata": {},
     "output_type": "display_data"
    }
   ],
   "source": [
    "from tqdm.notebook import tqdm\n",
    "\n",
    "model = RULModel()\n",
    "\n",
    "loss_fn = torch.nn.MSELoss()\n",
    "optimizer = torch.optim.Adam(model.parameters(), lr=0.001)\n",
    "\n",
    "epochs = 10\n",
    "device = torch.device(\"cuda\" if torch.cuda.is_available() else \"cpu\")\n",
    "model.to(device)\n",
    "\n",
    "# Create a single progress bar for all epochs\n",
    "with tqdm(total=epochs, desc=\"Training Progress\", unit=\"epoch\") as pbar:\n",
    "    for epoch in range(epochs):\n",
    "        model.train()\n",
    "        epoch_loss = 0.0\n",
    "\n",
    "        for data, labels in dataloader:\n",
    "            data, labels = data.to(device, dtype=torch.float), labels.to(device, dtype=torch.float)\n",
    "\n",
    "            # Forward pass\n",
    "            pred = model(data)\n",
    "            loss = loss_fn(pred.view(-1), labels)\n",
    "\n",
    "            # Backward pass and optimization\n",
    "            optimizer.zero_grad()\n",
    "            loss.backward()\n",
    "            optimizer.step()\n",
    "\n",
    "            # Accumulate loss\n",
    "            epoch_loss += loss.item()\n",
    "\n",
    "        # Update progress bar and epoch statistics\n",
    "        pbar.set_postfix({\"Epoch Loss\": f\"{epoch_loss / len(dataloader):.4f}\"})\n",
    "        pbar.update(1)\n"
   ]
  }
 ],
 "metadata": {
  "kernelspec": {
   "display_name": "engine",
   "language": "python",
   "name": "python3"
  },
  "language_info": {
   "codemirror_mode": {
    "name": "ipython",
    "version": 3
   },
   "file_extension": ".py",
   "mimetype": "text/x-python",
   "name": "python",
   "nbconvert_exporter": "python",
   "pygments_lexer": "ipython3",
   "version": "3.12.4"
  }
 },
 "nbformat": 4,
 "nbformat_minor": 2
}
